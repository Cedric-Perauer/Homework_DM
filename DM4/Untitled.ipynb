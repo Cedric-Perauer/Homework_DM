{
 "cells": [
  {
   "cell_type": "code",
   "execution_count": 4,
   "metadata": {},
   "outputs": [],
   "source": [
    "import pandas as pd \n",
    "import sklearn as sk \n",
    "from matplotlib import pyplot as plt "
   ]
  },
  {
   "cell_type": "code",
   "execution_count": 134,
   "metadata": {},
   "outputs": [],
   "source": [
    "df = pd.read_csv('out.txt',delim_whitespace=True,names=[\"frame\",\"class\",\"x\",\"y\",\"w\",\"h\"])"
   ]
  },
  {
   "cell_type": "code",
   "execution_count": 146,
   "metadata": {},
   "outputs": [
    {
     "data": {
      "text/html": [
       "<div>\n",
       "<style scoped>\n",
       "    .dataframe tbody tr th:only-of-type {\n",
       "        vertical-align: middle;\n",
       "    }\n",
       "\n",
       "    .dataframe tbody tr th {\n",
       "        vertical-align: top;\n",
       "    }\n",
       "\n",
       "    .dataframe thead th {\n",
       "        text-align: right;\n",
       "    }\n",
       "</style>\n",
       "<table border=\"1\" class=\"dataframe\">\n",
       "  <thead>\n",
       "    <tr style=\"text-align: right;\">\n",
       "      <th></th>\n",
       "      <th>frame</th>\n",
       "      <th>class</th>\n",
       "      <th>x</th>\n",
       "      <th>y</th>\n",
       "      <th>w</th>\n",
       "      <th>h</th>\n",
       "      <th>Area</th>\n",
       "      <th>width_heigth_ratio</th>\n",
       "      <th>dist</th>\n",
       "    </tr>\n",
       "  </thead>\n",
       "  <tbody>\n",
       "    <tr>\n",
       "      <th>0</th>\n",
       "      <td>1</td>\n",
       "      <td>2</td>\n",
       "      <td>0.949479</td>\n",
       "      <td>0.470417</td>\n",
       "      <td>0.100000</td>\n",
       "      <td>0.144167</td>\n",
       "      <td>0.014417</td>\n",
       "      <td>0.693640</td>\n",
       "      <td>1.419896</td>\n",
       "    </tr>\n",
       "    <tr>\n",
       "      <th>1</th>\n",
       "      <td>1</td>\n",
       "      <td>5</td>\n",
       "      <td>0.305208</td>\n",
       "      <td>0.468333</td>\n",
       "      <td>0.041667</td>\n",
       "      <td>0.070000</td>\n",
       "      <td>0.002917</td>\n",
       "      <td>0.595239</td>\n",
       "      <td>0.773541</td>\n",
       "    </tr>\n",
       "    <tr>\n",
       "      <th>2</th>\n",
       "      <td>1</td>\n",
       "      <td>5</td>\n",
       "      <td>0.261198</td>\n",
       "      <td>0.473750</td>\n",
       "      <td>0.051562</td>\n",
       "      <td>0.079167</td>\n",
       "      <td>0.004082</td>\n",
       "      <td>0.651316</td>\n",
       "      <td>0.734948</td>\n",
       "    </tr>\n",
       "    <tr>\n",
       "      <th>3</th>\n",
       "      <td>1</td>\n",
       "      <td>7</td>\n",
       "      <td>0.439063</td>\n",
       "      <td>0.492500</td>\n",
       "      <td>0.064583</td>\n",
       "      <td>0.088333</td>\n",
       "      <td>0.005705</td>\n",
       "      <td>0.731132</td>\n",
       "      <td>0.931563</td>\n",
       "    </tr>\n",
       "    <tr>\n",
       "      <th>4</th>\n",
       "      <td>1</td>\n",
       "      <td>2</td>\n",
       "      <td>0.098958</td>\n",
       "      <td>0.509583</td>\n",
       "      <td>0.097917</td>\n",
       "      <td>0.109167</td>\n",
       "      <td>0.010689</td>\n",
       "      <td>0.896944</td>\n",
       "      <td>0.608541</td>\n",
       "    </tr>\n",
       "    <tr>\n",
       "      <th>5</th>\n",
       "      <td>1</td>\n",
       "      <td>7</td>\n",
       "      <td>0.172656</td>\n",
       "      <td>0.497917</td>\n",
       "      <td>0.057813</td>\n",
       "      <td>0.082500</td>\n",
       "      <td>0.004770</td>\n",
       "      <td>0.700758</td>\n",
       "      <td>0.670573</td>\n",
       "    </tr>\n",
       "    <tr>\n",
       "      <th>6</th>\n",
       "      <td>1</td>\n",
       "      <td>11</td>\n",
       "      <td>0.898958</td>\n",
       "      <td>0.326667</td>\n",
       "      <td>0.031250</td>\n",
       "      <td>0.066667</td>\n",
       "      <td>0.002083</td>\n",
       "      <td>0.468750</td>\n",
       "      <td>1.225625</td>\n",
       "    </tr>\n",
       "  </tbody>\n",
       "</table>\n",
       "</div>"
      ],
      "text/plain": [
       "   frame  class         x         y         w         h      Area  \\\n",
       "0      1      2  0.949479  0.470417  0.100000  0.144167  0.014417   \n",
       "1      1      5  0.305208  0.468333  0.041667  0.070000  0.002917   \n",
       "2      1      5  0.261198  0.473750  0.051562  0.079167  0.004082   \n",
       "3      1      7  0.439063  0.492500  0.064583  0.088333  0.005705   \n",
       "4      1      2  0.098958  0.509583  0.097917  0.109167  0.010689   \n",
       "5      1      7  0.172656  0.497917  0.057813  0.082500  0.004770   \n",
       "6      1     11  0.898958  0.326667  0.031250  0.066667  0.002083   \n",
       "\n",
       "   width_heigth_ratio      dist  \n",
       "0            0.693640  1.419896  \n",
       "1            0.595239  0.773541  \n",
       "2            0.651316  0.734948  \n",
       "3            0.731132  0.931563  \n",
       "4            0.896944  0.608541  \n",
       "5            0.700758  0.670573  \n",
       "6            0.468750  1.225625  "
      ]
     },
     "execution_count": 146,
     "metadata": {},
     "output_type": "execute_result"
    }
   ],
   "source": [
    "df.head(10)\n",
    "df2 = df[:7]\n",
    "df2"
   ]
  },
  {
   "cell_type": "code",
   "execution_count": 153,
   "metadata": {},
   "outputs": [
    {
     "name": "stdout",
     "output_type": "stream",
     "text": [
      "(3172,)\n"
     ]
    }
   ],
   "source": [
    "area = df['h'] * df['w']\n",
    "width_heigth_ratio = df['w']/df['h']\n",
    "dist = df['x']+ df['y']\n",
    "print(area.shape)"
   ]
  },
  {
   "cell_type": "code",
   "execution_count": 137,
   "metadata": {},
   "outputs": [
    {
     "data": {
      "text/plain": [
       "<matplotlib.axes._subplots.AxesSubplot at 0x7f7f9f0d05c0>"
      ]
     },
     "execution_count": 137,
     "metadata": {},
     "output_type": "execute_result"
    },
    {
     "data": {
      "image/png": "[encoded data removed]",
      "text/plain": [
       "<Figure size 432x288 with 1 Axes>"
      ]
     },
     "metadata": {
      "needs_background": "light"
     },
     "output_type": "display_data"
    }
   ],
   "source": [
    "area.plot.hist(bins=100)"
   ]
  },
  {
   "cell_type": "code",
   "execution_count": 138,
   "metadata": {},
   "outputs": [
    {
     "data": {
      "text/plain": [
       "<matplotlib.axes._subplots.AxesSubplot at 0x7f7f9f43f898>"
      ]
     },
     "execution_count": 138,
     "metadata": {},
     "output_type": "execute_result"
    },
    {
     "data": {
      "image/png": "[encoded data removed]",
      "text/plain": [
       "<Figure size 432x288 with 1 Axes>"
      ]
     },
     "metadata": {
      "needs_background": "light"
     },
     "output_type": "display_data"
    }
   ],
   "source": [
    "df['x'].plot.hist()"
   ]
  },
  {
   "cell_type": "code",
   "execution_count": 139,
   "metadata": {},
   "outputs": [
    {
     "data": {
      "text/plain": [
       "<matplotlib.axes._subplots.AxesSubplot at 0x7f7f9f230b38>"
      ]
     },
     "execution_count": 139,
     "metadata": {},
     "output_type": "execute_result"
    },
    {
     "data": {
      "image/png": "[encoded data removed]",
      "text/plain": [
       "<Figure size 432x288 with 1 Axes>"
      ]
     },
     "metadata": {
      "needs_background": "light"
     },
     "output_type": "display_data"
    }
   ],
   "source": [
    "df['y'].plot.hist()"
   ]
  },
  {
   "cell_type": "code",
   "execution_count": 140,
   "metadata": {},
   "outputs": [],
   "source": [
    "df.insert(df.shape[1], \"Area\", area, True) \n",
    "df.insert(df.shape[1], \"width_heigth_ratio\", width_heigth_ratio, True) \n",
    "df.insert(df.shape[1], \"dist\", dist, True) "
   ]
  },
  {
   "cell_type": "code",
   "execution_count": 141,
   "metadata": {},
   "outputs": [
    {
     "data": {
      "text/plain": [
       "count    3172.000000\n",
       "mean        0.895630\n",
       "std         0.251137\n",
       "min         0.122031\n",
       "25%         0.708372\n",
       "50%         0.866172\n",
       "75%         1.051184\n",
       "max         1.599323\n",
       "Name: dist, dtype: float64"
      ]
     },
     "execution_count": 141,
     "metadata": {},
     "output_type": "execute_result"
    }
   ],
   "source": [
    "df['dist'].describe()"
   ]
  },
  {
   "cell_type": "code",
   "execution_count": 142,
   "metadata": {
    "scrolled": true
   },
   "outputs": [
    {
     "data": {
      "text/plain": [
       "Text(0, 0.5, 'X Pose')"
      ]
     },
     "execution_count": 142,
     "metadata": {},
     "output_type": "execute_result"
    },
    {
     "data": {
      "image/png": "[encoded data removed]",
      "text/plain": [
       "<Figure size 432x288 with 1 Axes>"
      ]
     },
     "metadata": {
      "needs_background": "light"
     },
     "output_type": "display_data"
    }
   ],
   "source": [
    "plt.scatter(df['Area'],df['x'],c=df['class'])\n",
    "plt.xlabel('Area')\n",
    "plt.ylabel('X Pose')"
   ]
  },
  {
   "cell_type": "code",
   "execution_count": 132,
   "metadata": {},
   "outputs": [
    {
     "data": {
      "text/html": [
       "<div>\n",
       "<style scoped>\n",
       "    .dataframe tbody tr th:only-of-type {\n",
       "        vertical-align: middle;\n",
       "    }\n",
       "\n",
       "    .dataframe tbody tr th {\n",
       "        vertical-align: top;\n",
       "    }\n",
       "\n",
       "    .dataframe thead th {\n",
       "        text-align: right;\n",
       "    }\n",
       "</style>\n",
       "<table border=\"1\" class=\"dataframe\">\n",
       "  <thead>\n",
       "    <tr style=\"text-align: right;\">\n",
       "      <th></th>\n",
       "      <th>width_heigth_ratio</th>\n",
       "      <th>width_heigth_ratio</th>\n",
       "    </tr>\n",
       "  </thead>\n",
       "  <tbody>\n",
       "    <tr>\n",
       "      <th>count</th>\n",
       "      <td>3172.000000</td>\n",
       "      <td>3172.000000</td>\n",
       "    </tr>\n",
       "    <tr>\n",
       "      <th>mean</th>\n",
       "      <td>0.767352</td>\n",
       "      <td>0.767352</td>\n",
       "    </tr>\n",
       "    <tr>\n",
       "      <th>std</th>\n",
       "      <td>0.323573</td>\n",
       "      <td>0.323573</td>\n",
       "    </tr>\n",
       "    <tr>\n",
       "      <th>min</th>\n",
       "      <td>0.121528</td>\n",
       "      <td>0.121528</td>\n",
       "    </tr>\n",
       "    <tr>\n",
       "      <th>25%</th>\n",
       "      <td>0.591139</td>\n",
       "      <td>0.591139</td>\n",
       "    </tr>\n",
       "    <tr>\n",
       "      <th>50%</th>\n",
       "      <td>0.757042</td>\n",
       "      <td>0.757042</td>\n",
       "    </tr>\n",
       "    <tr>\n",
       "      <th>75%</th>\n",
       "      <td>0.937498</td>\n",
       "      <td>0.937498</td>\n",
       "    </tr>\n",
       "    <tr>\n",
       "      <th>max</th>\n",
       "      <td>2.430961</td>\n",
       "      <td>2.430961</td>\n",
       "    </tr>\n",
       "  </tbody>\n",
       "</table>\n",
       "</div>"
      ],
      "text/plain": [
       "       width_heigth_ratio  width_heigth_ratio\n",
       "count         3172.000000         3172.000000\n",
       "mean             0.767352            0.767352\n",
       "std              0.323573            0.323573\n",
       "min              0.121528            0.121528\n",
       "25%              0.591139            0.591139\n",
       "50%              0.757042            0.757042\n",
       "75%              0.937498            0.937498\n",
       "max              2.430961            2.430961"
      ]
     },
     "execution_count": 132,
     "metadata": {},
     "output_type": "execute_result"
    }
   ],
   "source": [
    "df['width_heigth_ratio'].describe()"
   ]
  },
  {
   "cell_type": "code",
   "execution_count": 71,
   "metadata": {},
   "outputs": [
    {
     "name": "stdout",
     "output_type": "stream",
     "text": [
      "\n"
     ]
    }
   ],
   "source": [
    "print()"
   ]
  },
  {
   "cell_type": "code",
   "execution_count": 74,
   "metadata": {},
   "outputs": [],
   "source": [
    "X = df[['Area','width_heigth_ratio']]\n"
   ]
  },
  {
   "cell_type": "code",
   "execution_count": 75,
   "metadata": {},
   "outputs": [],
   "source": [
    "#scale correctly for k means algorithm as we are using distances\n",
    "from sklearn.preprocessing import StandardScaler\n",
    "scaler = StandardScaler()\n",
    "X_transformed = scaler.fit_transform(X)"
   ]
  },
  {
   "cell_type": "code",
   "execution_count": 76,
   "metadata": {},
   "outputs": [],
   "source": [
    "from sklearn.cluster import KMeans\n",
    "scores = []\n",
    "for n in range(2, 10):\n",
    "    model = KMeans(n_clusters = n)\n",
    "    model.fit(X_transformed)\n",
    "    scores.append(model.inertia_)"
   ]
  },
  {
   "cell_type": "code",
   "execution_count": 77,
   "metadata": {},
   "outputs": [
    {
     "data": {
      "image/png": "[encoded data removed]",
      "text/plain": [
       "<Figure size 432x288 with 1 Axes>"
      ]
     },
     "metadata": {
      "needs_background": "light"
     },
     "output_type": "display_data"
    }
   ],
   "source": [
    "%matplotlib inline\n",
    "\n",
    "import matplotlib.pyplot as plt\n",
    "\n",
    "plt.plot(range(2, 10), scores)\n",
    "plt.show()"
   ]
  },
  {
   "cell_type": "code",
   "execution_count": 78,
   "metadata": {},
   "outputs": [],
   "source": [
    "from sklearn.cluster import KMeans\n",
    "\n",
    "model = KMeans(n_clusters = 6)\n",
    "model.fit(X_transformed)\n",
    "# LabelS\n",
    "labels = model.labels_\n",
    "\n",
    "#CentroidS\n",
    "centers = model.cluster_centers_\n",
    "# scale centers back \n",
    "centers_transformed = scaler.inverse_transform(centers)"
   ]
  },
  {
   "cell_type": "code",
   "execution_count": 117,
   "metadata": {
    "scrolled": true
   },
   "outputs": [
    {
     "data": {
      "image/png": "[encoded data removed]",
      "text/plain": [
       "<Figure size 432x288 with 1 Axes>"
      ]
     },
     "metadata": {
      "needs_background": "light"
     },
     "output_type": "display_data"
    }
   ],
   "source": [
    "%matplotlib inline\n",
    "import matplotlib.pyplot as plt\n",
    "\n",
    "# Points\n",
    "plt.scatter(df[\"Area\"], df[\"width_heigth_ratio\"], c = labels, alpha = 0.5, s = 30)\n",
    "plt.scatter(df['Area'][213],df[\"width_heigth_ratio\"][213],c = 'r')\n",
    "# Centroids\n",
    "plt.scatter(\n",
    "    centers_transformed[:, 0], \n",
    "    centers_transformed[:, 1], \n",
    "    c = range(len(centers_transformed)), \n",
    "    marker = \"X\", edgecolor = 'black',\n",
    "    s = 200)\n",
    "\n",
    "plt.ylabel(\"Width /Height ratio \")\n",
    "plt.xlabel(\"Normalized Area\")\n",
    "\n",
    "plt.show()"
   ]
  },
  {
   "cell_type": "code",
   "execution_count": 118,
   "metadata": {},
   "outputs": [
    {
     "name": "stdout",
     "output_type": "stream",
     "text": [
      "(array([  37,  213,  222,  226,  234,  249,  251,  255,  257,  263,  265,\n",
      "        271,  273,  277,  284,  293,  296,  297,  306,  309,  317,  320,\n",
      "        324,  330,  331,  340,  343,  354,  356,  357,  363,  366,  367,\n",
      "        370,  372,  375,  376,  378,  382,  383,  388,  399,  402,  441,\n",
      "        489,  491,  499,  500,  508,  557,  654,  664,  674,  684,  694,\n",
      "        707,  717,  733,  745,  758,  764,  769,  779,  794,  832,  858,\n",
      "        874,  881,  891,  896,  912,  914,  922,  928,  929,  936,  948,\n",
      "        954,  958,  965,  976,  991, 1005, 1021, 1035, 1050, 1065, 1067,\n",
      "       1075, 1086, 1090, 1096, 1103, 1109, 1122, 1135, 1148, 1164, 1175,\n",
      "       1200, 1272, 1283, 1284, 1288, 1305, 1312, 1313, 1333, 1334, 1338,\n",
      "       1352, 1369, 1427, 1555, 1564, 1582, 1591, 1614, 1618, 1621, 1628,\n",
      "       1641, 1645, 1651, 1656, 1665, 1696, 1703, 1706, 1726, 1747, 1754,\n",
      "       1839, 2017, 2030, 2055, 2057, 2065, 2079, 2082, 2091, 2171, 2173,\n",
      "       2182, 2188, 2192, 2194, 2248, 2255, 2264, 2593, 2603, 2613, 2614,\n",
      "       2626, 2639, 2651, 2653, 2723, 2733, 2784, 2813, 2814, 2818, 2820,\n",
      "       2822, 2825, 2827, 2830, 2831, 2833, 2834, 2835, 2836, 2848, 2850,\n",
      "       2861, 2871, 2882, 2887, 2917, 2952, 3003, 3009, 3011, 3021, 3074,\n",
      "       3106, 3107, 3113, 3119, 3124]),)\n"
     ]
    }
   ],
   "source": [
    "import numpy as np \n",
    "x = np.where(labels==2)\n",
    "print(x)"
   ]
  },
  {
   "cell_type": "code",
   "execution_count": 119,
   "metadata": {
    "scrolled": true
   },
   "outputs": [
    {
     "name": "stdout",
     "output_type": "stream",
     "text": [
      "1418\n",
      "27\n",
      "192\n",
      "652\n",
      "736\n",
      "147\n"
     ]
    }
   ],
   "source": [
    "count = list(labels).count(0)\n",
    "print(count)\n",
    "count = list(labels).count(1)\n",
    "print(count)\n",
    "count = list(labels).count(2)\n",
    "print(count)\n",
    "count = list(labels).count(3)\n",
    "print(count)\n",
    "count = list(labels).count(4)\n",
    "print(count)\n",
    "count = list(labels).count(5)\n",
    "print(count)"
   ]
  },
  {
   "cell_type": "code",
   "execution_count": 120,
   "metadata": {},
   "outputs": [],
   "source": [
    "cluster_dict = {}\n",
    "for i in range(len(labels)): \n",
    "    if(labels[i]==2):\n",
    "        if df['class'][i] not in cluster_dict : \n",
    "            cluster_dict[df['class'][i]] = 1\n",
    "        else : \n",
    "            cluster_dict[df['class'][i]] += 1"
   ]
  },
  {
   "cell_type": "code",
   "execution_count": 124,
   "metadata": {},
   "outputs": [
    {
     "name": "stdout",
     "output_type": "stream",
     "text": [
      "{7: 5, 2: 183, 9: 1, 6: 1, 5: 1, 33: 1}\n",
      "18\n"
     ]
    }
   ],
   "source": [
    "print(cluster_dict)\n",
    "print(len(df[df['class']==0]))\n",
    "\n"
   ]
  },
  {
   "cell_type": "markdown",
   "metadata": {},
   "source": [
    "#### We observe that  outliers in the Area/X position case only consist of trucks (21) and cars(3), as the truck/car ratio is very high here, we suggest that this is based on the fact that most points cluster around the middle of the image as x is about 0.5 in most cases (Car is right in front of our car). When we are too close to the car in front, the whole frame is almost filled with this one car. The neural network is not able to reason about the cars (trucks) features in a more global way as features like the side of the car are not visible. Therefore features like the bed of the pickup truck are not distinguishable, misleading the neural net into thinking it is a pickup truck. "
   ]
  },
  {
   "cell_type": "code",
   "execution_count": 19,
   "metadata": {},
   "outputs": [],
   "source": [
    "area_cars = []\n",
    "area_trucks = []\n",
    "for i in range(df.shape[0]): \n",
    "    if df['class'][i] ==7 : \n",
    "        area_trucks.append(df['Area'][i])\n",
    "    elif     df['class'][i] == 2 :\n",
    "        area_cars.append(df['Area'][i])"
   ]
  },
  {
   "cell_type": "code",
   "execution_count": 55,
   "metadata": {},
   "outputs": [
    {
     "data": {
      "text/plain": [
       "(array([146.,  26.,  12.,   7.,   7.,  10.,  11.,   9.,  10.,   0.,   4.,\n",
       "          3.,   1.,   1.,   1.,   0.,  10.,   1.,   2.,   2.]),\n",
       " array([0.0019184 , 0.01362449, 0.02533058, 0.03703667, 0.04874277,\n",
       "        0.06044886, 0.07215495, 0.08386104, 0.09556713, 0.10727322,\n",
       "        0.11897931, 0.13068541, 0.1423915 , 0.15409759, 0.16580368,\n",
       "        0.17750977, 0.18921586, 0.20092195, 0.21262804, 0.22433414,\n",
       "        0.23604023]),\n",
       " <a list of 20 Patch objects>)"
      ]
     },
     "execution_count": 55,
     "metadata": {},
     "output_type": "execute_result"
    },
    {
     "data": {
      "image/png": "[encoded data removed]",
      "text/plain": [
       "<Figure size 432x288 with 1 Axes>"
      ]
     },
     "metadata": {
      "needs_background": "light"
     },
     "output_type": "display_data"
    }
   ],
   "source": [
    "import numpy as np \n",
    "\n",
    "plt.hist(area_cars, density=False, bins=20)\n",
    "plt.hist(area_trucks, density=False, bins=20) "
   ]
  },
  {
   "cell_type": "code",
   "execution_count": 33,
   "metadata": {
    "scrolled": true
   },
   "outputs": [
    {
     "data": {
      "text/plain": [
       "263"
      ]
     },
     "execution_count": 33,
     "metadata": {},
     "output_type": "execute_result"
    }
   ],
   "source": [
    "len(df[df['class']==7])\n",
    "len(area_trucks)"
   ]
  },
  {
   "cell_type": "code",
   "execution_count": 151,
   "metadata": {},
   "outputs": [
    {
     "name": "stdout",
     "output_type": "stream",
     "text": [
      "0\n",
      "1\n",
      "2\n",
      "3\n",
      "4\n",
      "5\n",
      "6\n"
     ]
    }
   ],
   "source": [
    "top_left = []\n",
    "top_right = []\n",
    "bot_right = []\n",
    "bot_left = []\n",
    "\n",
    "for i in range(df2.shape[0]): \n",
    "       bot_left[]"
   ]
  },
  {
   "cell_type": "code",
   "execution_count": null,
   "metadata": {},
   "outputs": [],
   "source": []
  }
 ],
 "metadata": {
  "kernelspec": {
   "display_name": "Python 3",
   "language": "python",
   "name": "python3"
  },
  "language_info": {
   "codemirror_mode": {
    "name": "ipython",
    "version": 3
   },
   "file_extension": ".py",
   "mimetype": "text/x-python",
   "name": "python",
   "nbconvert_exporter": "python",
   "pygments_lexer": "ipython3",
   "version": "3.6.10"
  }
 },
 "nbformat": 4,
 "nbformat_minor": 4
}
