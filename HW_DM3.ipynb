{
  "nbformat": 4,
  "nbformat_minor": 0,
  "metadata": {
    "colab": {
      "name": "HW_DM.ipynb",
      "provenance": [],
      "collapsed_sections": []
    },
    "kernelspec": {
      "name": "python3",
      "display_name": "Python 3"
    }
  },
  "cells": [
    {
      "cell_type": "markdown",
      "metadata": {
        "id": "63qTHasQO94Y",
        "colab_type": "text"
      },
      "source": [
        "## Datamanagement Homework 3 Part B) "
      ]
    },
    {
      "cell_type": "code",
      "metadata": {
        "id": "WgUqFw184oHn",
        "colab_type": "code",
        "colab": {}
      },
      "source": [
        "import pandas as pd "
      ],
      "execution_count": 2,
      "outputs": []
    },
    {
      "cell_type": "code",
      "metadata": {
        "id": "FMoGfcHm5ZlF",
        "colab_type": "code",
        "colab": {
          "base_uri": "https://localhost:8080/",
          "height": 124
        },
        "outputId": "f7c92708-31e5-43d1-d2b9-850c469d9593"
      },
      "source": [
        "from google.colab import drive\n",
        "drive.mount('/content/drive')"
      ],
      "execution_count": 3,
      "outputs": [
        {
          "output_type": "stream",
          "text": [
            "Go to this URL in a browser: https://accounts.google.com/o/oauth2/auth?client_id=947318989803-6bn6qk8qdgf4n4g3pfee6491hc0brc4i.apps.googleusercontent.com&redirect_uri=urn%3aietf%3awg%3aoauth%3a2.0%3aoob&response_type=code&scope=email%20https%3a%2f%2fwww.googleapis.com%2fauth%2fdocs.test%20https%3a%2f%2fwww.googleapis.com%2fauth%2fdrive%20https%3a%2f%2fwww.googleapis.com%2fauth%2fdrive.photos.readonly%20https%3a%2f%2fwww.googleapis.com%2fauth%2fpeopleapi.readonly\n",
            "\n",
            "Enter your authorization code:\n",
            "··········\n",
            "Mounted at /content/drive\n"
          ],
          "name": "stdout"
        }
      ]
    },
    {
      "cell_type": "code",
      "metadata": {
        "id": "u7KRI7qE5MAa",
        "colab_type": "code",
        "colab": {}
      },
      "source": [
        "df = pd.read_csv(\"/content/sample_data/output1_compressed.txt\",delim_whitespace= True, names = [\"frame\",\"class\",\"x\",\"y\",\"w\",\"h\"]) "
      ],
      "execution_count": 8,
      "outputs": []
    },
    {
      "cell_type": "code",
      "metadata": {
        "id": "Y51rBL9_53Z7",
        "colab_type": "code",
        "colab": {
          "base_uri": "https://localhost:8080/",
          "height": 206
        },
        "outputId": "5f0f3cbc-3fc6-4afd-e969-748146cf916f"
      },
      "source": [
        "df.head()"
      ],
      "execution_count": 9,
      "outputs": [
        {
          "output_type": "execute_result",
          "data": {
            "text/html": [
              "<div>\n",
              "<style scoped>\n",
              "    .dataframe tbody tr th:only-of-type {\n",
              "        vertical-align: middle;\n",
              "    }\n",
              "\n",
              "    .dataframe tbody tr th {\n",
              "        vertical-align: top;\n",
              "    }\n",
              "\n",
              "    .dataframe thead th {\n",
              "        text-align: right;\n",
              "    }\n",
              "</style>\n",
              "<table border=\"1\" class=\"dataframe\">\n",
              "  <thead>\n",
              "    <tr style=\"text-align: right;\">\n",
              "      <th></th>\n",
              "      <th>frame</th>\n",
              "      <th>class</th>\n",
              "      <th>x</th>\n",
              "      <th>y</th>\n",
              "      <th>w</th>\n",
              "      <th>h</th>\n",
              "    </tr>\n",
              "  </thead>\n",
              "  <tbody>\n",
              "    <tr>\n",
              "      <th>0</th>\n",
              "      <td>1</td>\n",
              "      <td>2</td>\n",
              "      <td>0.949479</td>\n",
              "      <td>0.470417</td>\n",
              "      <td>0.100000</td>\n",
              "      <td>0.144167</td>\n",
              "    </tr>\n",
              "    <tr>\n",
              "      <th>1</th>\n",
              "      <td>1</td>\n",
              "      <td>5</td>\n",
              "      <td>0.305208</td>\n",
              "      <td>0.468333</td>\n",
              "      <td>0.041667</td>\n",
              "      <td>0.070000</td>\n",
              "    </tr>\n",
              "    <tr>\n",
              "      <th>2</th>\n",
              "      <td>1</td>\n",
              "      <td>5</td>\n",
              "      <td>0.261198</td>\n",
              "      <td>0.473750</td>\n",
              "      <td>0.051562</td>\n",
              "      <td>0.079167</td>\n",
              "    </tr>\n",
              "    <tr>\n",
              "      <th>3</th>\n",
              "      <td>1</td>\n",
              "      <td>7</td>\n",
              "      <td>0.439063</td>\n",
              "      <td>0.492500</td>\n",
              "      <td>0.064583</td>\n",
              "      <td>0.088333</td>\n",
              "    </tr>\n",
              "    <tr>\n",
              "      <th>4</th>\n",
              "      <td>1</td>\n",
              "      <td>2</td>\n",
              "      <td>0.098958</td>\n",
              "      <td>0.509583</td>\n",
              "      <td>0.097917</td>\n",
              "      <td>0.109167</td>\n",
              "    </tr>\n",
              "  </tbody>\n",
              "</table>\n",
              "</div>"
            ],
            "text/plain": [
              "   frame  class         x         y         w         h\n",
              "0      1      2  0.949479  0.470417  0.100000  0.144167\n",
              "1      1      5  0.305208  0.468333  0.041667  0.070000\n",
              "2      1      5  0.261198  0.473750  0.051562  0.079167\n",
              "3      1      7  0.439063  0.492500  0.064583  0.088333\n",
              "4      1      2  0.098958  0.509583  0.097917  0.109167"
            ]
          },
          "metadata": {
            "tags": []
          },
          "execution_count": 9
        }
      ]
    },
    {
      "cell_type": "code",
      "metadata": {
        "id": "m1l81IbpESpu",
        "colab_type": "code",
        "colab": {}
      },
      "source": [
        ""
      ],
      "execution_count": 57,
      "outputs": []
    },
    {
      "cell_type": "code",
      "metadata": {
        "id": "usd9iv876S5k",
        "colab_type": "code",
        "colab": {
          "base_uri": "https://localhost:8080/",
          "height": 34
        },
        "outputId": "529f7ce8-f726-4ef6-a7ba-72c3aceba624"
      },
      "source": [
        "frame_count = df.iloc[-1,0] #use last frame as frame count\n",
        "avg_num = (df.shape[0])/frame_count\n",
        "print(\"Average number of objects/frame is : \",avg_num)\n",
        "distinct_dict = {} #use dictionary to store #of occurences of each class\n",
        "for i in range(df.shape[0]) : \n",
        "    cur_class = df.iloc[i,1] #get current class\n",
        "    if cur_class in distinct_dict: \n",
        "      distinct_dict[cur_class] += 1 \n",
        "    else : \n",
        "       distinct_dict[cur_class] = 1"
      ],
      "execution_count": 52,
      "outputs": [
        {
          "output_type": "stream",
          "text": [
            "Average number of objects/frame is :  7.552380952380952\n"
          ],
          "name": "stdout"
        }
      ]
    },
    {
      "cell_type": "code",
      "metadata": {
        "id": "XUlgUGR8A0DQ",
        "colab_type": "code",
        "colab": {}
      },
      "source": [
        "#Load COCO Names \n",
        "names = pd.read_csv(\"/content/sample_data/coco.names\",delim_whitespace= True, names = [\"class_name\"]) "
      ],
      "execution_count": 53,
      "outputs": []
    },
    {
      "cell_type": "code",
      "metadata": {
        "id": "Jogp6YNgBy5j",
        "colab_type": "code",
        "colab": {
          "base_uri": "https://localhost:8080/",
          "height": 34
        },
        "outputId": "bb2f07da-b1f7-45f7-e9e3-3461a8301623"
      },
      "source": [
        "print(distinct_dict)"
      ],
      "execution_count": 58,
      "outputs": [
        {
          "output_type": "stream",
          "text": [
            "{2: 2329, 5: 9, 7: 263, 11: 7, 9: 537, 10: 3, 6: 3, 0: 18, 1: 2, 33: 1}\n"
          ],
          "name": "stdout"
        }
      ]
    },
    {
      "cell_type": "markdown",
      "metadata": {
        "id": "Dxr5XX7ROZjm",
        "colab_type": "text"
      },
      "source": [
        "### Conversion \n",
        "We can now convert the hash map keys (python dict) by using coco.names to use our names as keys directly (values stay the same), with the following line : "
      ]
    },
    {
      "cell_type": "code",
      "metadata": {
        "id": "Jr5bq8vu7LlE",
        "colab_type": "code",
        "colab": {}
      },
      "source": [
        "distinct_dict_classes = dict((names.iloc[key,0] , value) for (key,value) in distinct_dict.items())"
      ],
      "execution_count": 55,
      "outputs": []
    },
    {
      "cell_type": "code",
      "metadata": {
        "id": "dmHDyRSjAEL3",
        "colab_type": "code",
        "colab": {
          "base_uri": "https://localhost:8080/",
          "height": 34
        },
        "outputId": "4011c855-5622-42e0-92e6-0f8e77798299"
      },
      "source": [
        "print(distinct_dict_classes)"
      ],
      "execution_count": 56,
      "outputs": [
        {
          "output_type": "stream",
          "text": [
            "{'car': 2329, 'bus': 9, 'truck': 263, 'stop': 7, 'traffic': 537, 'fire': 3, 'train': 3, 'person': 18, 'bicycle': 2, 'kite': 1}\n"
          ],
          "name": "stdout"
        }
      ]
    },
    {
      "cell_type": "markdown",
      "metadata": {
        "id": "JGGRbUjrOyDy",
        "colab_type": "text"
      },
      "source": [
        "As we can see the number of stop signs is 7, we can check for correct implementation with the code cell below and see that it works : "
      ]
    },
    {
      "cell_type": "code",
      "metadata": {
        "id": "K0vBqQNqDpX8",
        "colab_type": "code",
        "colab": {
          "base_uri": "https://localhost:8080/",
          "height": 34
        },
        "outputId": "b5f165c5-74ec-4c4c-c69b-727109a3fb1b"
      },
      "source": [
        "#stop sign number \n",
        "print(\" Number of total stop signs is : \",len(df[df['class']==11]))"
      ],
      "execution_count": 57,
      "outputs": [
        {
          "output_type": "stream",
          "text": [
            " Number of total stop signs is :  7\n"
          ],
          "name": "stdout"
        }
      ]
    }
  ]
}